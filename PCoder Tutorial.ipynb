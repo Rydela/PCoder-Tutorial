{
  "nbformat": 4,
  "nbformat_minor": 0,
  "metadata": {
    "colab": {
      "name": "Brazil ADM 1_pcoder",
      "provenance": [],
      "collapsed_sections": [],
      "toc_visible": true
    },
    "kernelspec": {
      "name": "python3",
      "display_name": "Python 3"
    }
  },
  "cells": [
    {
      "cell_type": "markdown",
      "metadata": {
        "id": "5FfNJ1jQcIwB"
      },
      "source": [
        "# Comparing and verifying admin level names for adding pcodes\n",
        "\n",
        "This document reviews how pcodes can be added to .geojson files by fuzzy matching admin names. Sometimes admin names go by different spellings or have errors. With this process we review matches and attach pcodes between the spatial dataset and pcode dataset even if they are slightly different.\n",
        "\n",
        "This is meant to be a **rough guide** to use as a reference. Currently, it is not detailed enough to work as a full tutorial.\n",
        "\n",
        "## 1. The context\n",
        "\n",
        "When creating Pcodes for Brazil, we used codes from the Government of Brazil to label different admin labels. This is in line with best practice, since pcodes will align easier with government. Unfortunately, the shapefiles found on HDX had different IDs. The place names between the government list and the list of HDX also had differences. This made it difficult to use these shapefiles in different services like HXL.\n",
        "\n",
        "By fuzzy matching place names from the pcode/government dataset to HDX shapefile dataset, we can attach the pcodes to the shapefile from HDX for use in the future.\n",
        "\n",
        "### 1.1 Using .geojson\n",
        "\n",
        "We work with a .geojson file in this project. If you currently have a shapefile you can utilise a program, such as QGIS, to export your shapefile layer to a .geojson format.\n",
        "\n",
        "### 1.2 Required packages\n",
        "This code uses Python. Please sure the following Python packages are installed:\n",
        "\n",
        "*   pandas\n",
        "*   numpy\n",
        "*   geopandas\n",
        "*   json\n",
        "*   fuzzywuzzy \n",
        "\n",
        "We'll see use pandas for basic data frame manuvering, geopandas and json for importing and exporting our .geojson file, and fuzzywuzzy for the \n"
      ]
    },
    {
      "cell_type": "code",
      "metadata": {
        "id": "SkiRs1joFRGZ",
        "colab": {
          "base_uri": "https://localhost:8080/",
          "height": 451
        },
        "outputId": "f7a46caa-fc3d-414f-b639-848ec6fd138b"
      },
      "source": [
        "# Do not worry about installing this a second time if you already installed it.\n",
        "# I wrote this in Google Colab, so I have to recreate the environment.\n",
        "pip install geopandas"
      ],
      "execution_count": null,
      "outputs": [
        {
          "output_type": "stream",
          "text": [
            "Collecting geopandas\n",
            "\u001b[?25l  Downloading https://files.pythonhosted.org/packages/83/c5/3cf9cdc39a6f2552922f79915f36b45a95b71fd343cfc51170a5b6ddb6e8/geopandas-0.7.0-py2.py3-none-any.whl (928kB)\n",
            "\r\u001b[K     |▍                               | 10kB 18.2MB/s eta 0:00:01\r\u001b[K     |▊                               | 20kB 3.1MB/s eta 0:00:01\r\u001b[K     |█                               | 30kB 3.7MB/s eta 0:00:01\r\u001b[K     |█▍                              | 40kB 2.9MB/s eta 0:00:01\r\u001b[K     |█▊                              | 51kB 3.2MB/s eta 0:00:01\r\u001b[K     |██▏                             | 61kB 3.8MB/s eta 0:00:01\r\u001b[K     |██▌                             | 71kB 4.0MB/s eta 0:00:01\r\u001b[K     |██▉                             | 81kB 4.4MB/s eta 0:00:01\r\u001b[K     |███▏                            | 92kB 4.9MB/s eta 0:00:01\r\u001b[K     |███▌                            | 102kB 4.8MB/s eta 0:00:01\r\u001b[K     |███▉                            | 112kB 4.8MB/s eta 0:00:01\r\u001b[K     |████▎                           | 122kB 4.8MB/s eta 0:00:01\r\u001b[K     |████▋                           | 133kB 4.8MB/s eta 0:00:01\r\u001b[K     |█████                           | 143kB 4.8MB/s eta 0:00:01\r\u001b[K     |█████▎                          | 153kB 4.8MB/s eta 0:00:01\r\u001b[K     |█████▋                          | 163kB 4.8MB/s eta 0:00:01\r\u001b[K     |██████                          | 174kB 4.8MB/s eta 0:00:01\r\u001b[K     |██████▍                         | 184kB 4.8MB/s eta 0:00:01\r\u001b[K     |██████▊                         | 194kB 4.8MB/s eta 0:00:01\r\u001b[K     |███████                         | 204kB 4.8MB/s eta 0:00:01\r\u001b[K     |███████▍                        | 215kB 4.8MB/s eta 0:00:01\r\u001b[K     |███████▊                        | 225kB 4.8MB/s eta 0:00:01\r\u001b[K     |████████▏                       | 235kB 4.8MB/s eta 0:00:01\r\u001b[K     |████████▌                       | 245kB 4.8MB/s eta 0:00:01\r\u001b[K     |████████▉                       | 256kB 4.8MB/s eta 0:00:01\r\u001b[K     |█████████▏                      | 266kB 4.8MB/s eta 0:00:01\r\u001b[K     |█████████▌                      | 276kB 4.8MB/s eta 0:00:01\r\u001b[K     |█████████▉                      | 286kB 4.8MB/s eta 0:00:01\r\u001b[K     |██████████▎                     | 296kB 4.8MB/s eta 0:00:01\r\u001b[K     |██████████▋                     | 307kB 4.8MB/s eta 0:00:01\r\u001b[K     |███████████                     | 317kB 4.8MB/s eta 0:00:01\r\u001b[K     |███████████▎                    | 327kB 4.8MB/s eta 0:00:01\r\u001b[K     |███████████▋                    | 337kB 4.8MB/s eta 0:00:01\r\u001b[K     |████████████                    | 348kB 4.8MB/s eta 0:00:01\r\u001b[K     |████████████▍                   | 358kB 4.8MB/s eta 0:00:01\r\u001b[K     |████████████▊                   | 368kB 4.8MB/s eta 0:00:01\r\u001b[K     |█████████████                   | 378kB 4.8MB/s eta 0:00:01\r\u001b[K     |█████████████▍                  | 389kB 4.8MB/s eta 0:00:01\r\u001b[K     |█████████████▊                  | 399kB 4.8MB/s eta 0:00:01\r\u001b[K     |██████████████▏                 | 409kB 4.8MB/s eta 0:00:01\r\u001b[K     |██████████████▌                 | 419kB 4.8MB/s eta 0:00:01\r\u001b[K     |██████████████▉                 | 430kB 4.8MB/s eta 0:00:01\r\u001b[K     |███████████████▏                | 440kB 4.8MB/s eta 0:00:01\r\u001b[K     |███████████████▌                | 450kB 4.8MB/s eta 0:00:01\r\u001b[K     |███████████████▉                | 460kB 4.8MB/s eta 0:00:01\r\u001b[K     |████████████████▎               | 471kB 4.8MB/s eta 0:00:01\r\u001b[K     |████████████████▋               | 481kB 4.8MB/s eta 0:00:01\r\u001b[K     |█████████████████               | 491kB 4.8MB/s eta 0:00:01\r\u001b[K     |█████████████████▎              | 501kB 4.8MB/s eta 0:00:01\r\u001b[K     |█████████████████▋              | 512kB 4.8MB/s eta 0:00:01\r\u001b[K     |██████████████████              | 522kB 4.8MB/s eta 0:00:01\r\u001b[K     |██████████████████▍             | 532kB 4.8MB/s eta 0:00:01\r\u001b[K     |██████████████████▊             | 542kB 4.8MB/s eta 0:00:01\r\u001b[K     |███████████████████             | 552kB 4.8MB/s eta 0:00:01\r\u001b[K     |███████████████████▍            | 563kB 4.8MB/s eta 0:00:01\r\u001b[K     |███████████████████▊            | 573kB 4.8MB/s eta 0:00:01\r\u001b[K     |████████████████████▏           | 583kB 4.8MB/s eta 0:00:01\r\u001b[K     |████████████████████▌           | 593kB 4.8MB/s eta 0:00:01\r\u001b[K     |████████████████████▉           | 604kB 4.8MB/s eta 0:00:01\r\u001b[K     |█████████████████████▏          | 614kB 4.8MB/s eta 0:00:01\r\u001b[K     |█████████████████████▌          | 624kB 4.8MB/s eta 0:00:01\r\u001b[K     |██████████████████████          | 634kB 4.8MB/s eta 0:00:01\r\u001b[K     |██████████████████████▎         | 645kB 4.8MB/s eta 0:00:01\r\u001b[K     |██████████████████████▋         | 655kB 4.8MB/s eta 0:00:01\r\u001b[K     |███████████████████████         | 665kB 4.8MB/s eta 0:00:01\r\u001b[K     |███████████████████████▎        | 675kB 4.8MB/s eta 0:00:01\r\u001b[K     |███████████████████████▋        | 686kB 4.8MB/s eta 0:00:01\r\u001b[K     |████████████████████████        | 696kB 4.8MB/s eta 0:00:01\r\u001b[K     |████████████████████████▍       | 706kB 4.8MB/s eta 0:00:01\r\u001b[K     |████████████████████████▊       | 716kB 4.8MB/s eta 0:00:01\r\u001b[K     |█████████████████████████       | 727kB 4.8MB/s eta 0:00:01\r\u001b[K     |█████████████████████████▍      | 737kB 4.8MB/s eta 0:00:01\r\u001b[K     |█████████████████████████▊      | 747kB 4.8MB/s eta 0:00:01\r\u001b[K     |██████████████████████████▏     | 757kB 4.8MB/s eta 0:00:01\r\u001b[K     |██████████████████████████▌     | 768kB 4.8MB/s eta 0:00:01\r\u001b[K     |██████████████████████████▉     | 778kB 4.8MB/s eta 0:00:01\r\u001b[K     |███████████████████████████▏    | 788kB 4.8MB/s eta 0:00:01\r\u001b[K     |███████████████████████████▌    | 798kB 4.8MB/s eta 0:00:01\r\u001b[K     |████████████████████████████    | 808kB 4.8MB/s eta 0:00:01\r\u001b[K     |████████████████████████████▎   | 819kB 4.8MB/s eta 0:00:01\r\u001b[K     |████████████████████████████▋   | 829kB 4.8MB/s eta 0:00:01\r\u001b[K     |█████████████████████████████   | 839kB 4.8MB/s eta 0:00:01\r\u001b[K     |█████████████████████████████▎  | 849kB 4.8MB/s eta 0:00:01\r\u001b[K     |█████████████████████████████▋  | 860kB 4.8MB/s eta 0:00:01\r\u001b[K     |██████████████████████████████  | 870kB 4.8MB/s eta 0:00:01\r\u001b[K     |██████████████████████████████▍ | 880kB 4.8MB/s eta 0:00:01\r\u001b[K     |██████████████████████████████▊ | 890kB 4.8MB/s eta 0:00:01\r\u001b[K     |███████████████████████████████ | 901kB 4.8MB/s eta 0:00:01\r\u001b[K     |███████████████████████████████▍| 911kB 4.8MB/s eta 0:00:01\r\u001b[K     |███████████████████████████████▊| 921kB 4.8MB/s eta 0:00:01\r\u001b[K     |████████████████████████████████| 931kB 4.8MB/s \n",
            "\u001b[?25hRequirement already satisfied: pandas>=0.23.0 in /usr/local/lib/python3.6/dist-packages (from geopandas) (1.0.3)\n",
            "Requirement already satisfied: shapely in /usr/local/lib/python3.6/dist-packages (from geopandas) (1.7.0)\n",
            "Collecting fiona\n",
            "\u001b[?25l  Downloading https://files.pythonhosted.org/packages/ec/20/4e63bc5c6e62df889297b382c3ccd4a7a488b00946aaaf81a118158c6f09/Fiona-1.8.13.post1-cp36-cp36m-manylinux1_x86_64.whl (14.7MB)\n",
            "\u001b[K     |████████████████████████████████| 14.7MB 312kB/s \n",
            "\u001b[?25hCollecting pyproj>=2.2.0\n",
            "\u001b[?25l  Downloading https://files.pythonhosted.org/packages/ce/37/705ee471f71130d4ceee41bbcb06f3b52175cb89273cbb5755ed5e6374e0/pyproj-2.6.0-cp36-cp36m-manylinux2010_x86_64.whl (10.4MB)\n",
            "\u001b[K     |████████████████████████████████| 10.4MB 41.0MB/s \n",
            "\u001b[?25hRequirement already satisfied: numpy>=1.13.3 in /usr/local/lib/python3.6/dist-packages (from pandas>=0.23.0->geopandas) (1.18.3)\n",
            "Requirement already satisfied: pytz>=2017.2 in /usr/local/lib/python3.6/dist-packages (from pandas>=0.23.0->geopandas) (2018.9)\n",
            "Requirement already satisfied: python-dateutil>=2.6.1 in /usr/local/lib/python3.6/dist-packages (from pandas>=0.23.0->geopandas) (2.8.1)\n",
            "Collecting munch\n",
            "  Downloading https://files.pythonhosted.org/packages/cc/ab/85d8da5c9a45e072301beb37ad7f833cd344e04c817d97e0cc75681d248f/munch-2.5.0-py2.py3-none-any.whl\n",
            "Requirement already satisfied: attrs>=17 in /usr/local/lib/python3.6/dist-packages (from fiona->geopandas) (19.3.0)\n",
            "Requirement already satisfied: six>=1.7 in /usr/local/lib/python3.6/dist-packages (from fiona->geopandas) (1.12.0)\n",
            "Collecting cligj>=0.5\n",
            "  Downloading https://files.pythonhosted.org/packages/e4/be/30a58b4b0733850280d01f8bd132591b4668ed5c7046761098d665ac2174/cligj-0.5.0-py3-none-any.whl\n",
            "Requirement already satisfied: click<8,>=4.0 in /usr/local/lib/python3.6/dist-packages (from fiona->geopandas) (7.1.2)\n",
            "Collecting click-plugins>=1.0\n",
            "  Downloading https://files.pythonhosted.org/packages/e9/da/824b92d9942f4e472702488857914bdd50f73021efea15b4cad9aca8ecef/click_plugins-1.1.1-py2.py3-none-any.whl\n",
            "Installing collected packages: munch, cligj, click-plugins, fiona, pyproj, geopandas\n",
            "Successfully installed click-plugins-1.1.1 cligj-0.5.0 fiona-1.8.13.post1 geopandas-0.7.0 munch-2.5.0 pyproj-2.6.0\n"
          ],
          "name": "stdout"
        }
      ]
    },
    {
      "cell_type": "code",
      "metadata": {
        "id": "bOTHlYAvFWYg",
        "colab": {
          "base_uri": "https://localhost:8080/",
          "height": 87
        },
        "outputId": "0b077b4e-4941-4a63-b435-585b57bb2097"
      },
      "source": [
        "# Do not worry about installing this a second time if you already installed it.\n",
        "# I wrote this in Google Colab, so I have to recreate the environment.\n",
        "pip install fuzzywuzzy"
      ],
      "execution_count": null,
      "outputs": [
        {
          "output_type": "stream",
          "text": [
            "Collecting fuzzywuzzy\n",
            "  Downloading https://files.pythonhosted.org/packages/43/ff/74f23998ad2f93b945c0309f825be92e04e0348e062026998b5eefef4c33/fuzzywuzzy-0.18.0-py2.py3-none-any.whl\n",
            "Installing collected packages: fuzzywuzzy\n",
            "Successfully installed fuzzywuzzy-0.18.0\n"
          ],
          "name": "stdout"
        }
      ]
    },
    {
      "cell_type": "markdown",
      "metadata": {
        "id": "2JFZXevyqVsE"
      },
      "source": [
        "## 2. Import your libraries\n",
        "\n",
        "First we'll important our libraries, which are pandas, numpy, geopandas, json, and fuzzywuzzy"
      ]
    },
    {
      "cell_type": "code",
      "metadata": {
        "id": "_i_8XJcvF41z",
        "colab": {
          "base_uri": "https://localhost:8080/",
          "height": 52
        },
        "outputId": "8710d575-d2f2-4dc3-8cd6-c8298e16a627"
      },
      "source": [
        "import pandas as pd\n",
        "import numpy as np\n",
        "import geopandas as gpd\n",
        "import json\n",
        "from fuzzywuzzy import fuzz\n",
        "from fuzzywuzzy import process"
      ],
      "execution_count": null,
      "outputs": [
        {
          "output_type": "stream",
          "text": [
            "/usr/local/lib/python3.6/dist-packages/fuzzywuzzy/fuzz.py:11: UserWarning: Using slow pure-python SequenceMatcher. Install python-Levenshtein to remove this warning\n",
            "  warnings.warn('Using slow pure-python SequenceMatcher. Install python-Levenshtein to remove this warning')\n"
          ],
          "name": "stderr"
        }
      ]
    },
    {
      "cell_type": "markdown",
      "metadata": {
        "id": "lk9UodMMqjnG"
      },
      "source": [
        "## 3. Import Your Datasets\n",
        "\n",
        "I have two datasets. First, a .geojson which I created by exporting the shapefile layer found on HDX. Second, the government dataset (.csv) was taken from the Brazil government website, then pcodes were generated based on their existing IDs.\n",
        "\n",
        "I am importing these via my Google Drive, but import your dataset however you need to."
      ]
    },
    {
      "cell_type": "code",
      "metadata": {
        "id": "niO9aT2rGNOO",
        "colab": {
          "base_uri": "https://localhost:8080/",
          "height": 124
        },
        "outputId": "86eb718b-c9d0-4c88-e18a-c2ce886b946c"
      },
      "source": [
        "from google.colab import drive\n",
        "drive.mount('/content/drive')"
      ],
      "execution_count": null,
      "outputs": [
        {
          "output_type": "stream",
          "text": [
            "Go to this URL in a browser: https://accounts.google.com/o/oauth2/auth?client_id=947318989803-6bn6qk8qdgf4n4g3pfee6491hc0brc4i.apps.googleusercontent.com&redirect_uri=urn%3aietf%3awg%3aoauth%3a2.0%3aoob&response_type=code&scope=email%20https%3a%2f%2fwww.googleapis.com%2fauth%2fdocs.test%20https%3a%2f%2fwww.googleapis.com%2fauth%2fdrive%20https%3a%2f%2fwww.googleapis.com%2fauth%2fdrive.photos.readonly%20https%3a%2f%2fwww.googleapis.com%2fauth%2fpeopleapi.readonly\n",
            "\n",
            "Enter your authorization code:\n",
            "··········\n",
            "Mounted at /content/drive\n"
          ],
          "name": "stdout"
        }
      ]
    },
    {
      "cell_type": "markdown",
      "metadata": {
        "id": "2q72fiJHcr9X"
      },
      "source": [
        "Geopandas reads our .geojson file. In the paranthesis put the path to your files."
      ]
    },
    {
      "cell_type": "code",
      "metadata": {
        "id": "ZWuDB7WUSxDO"
      },
      "source": [
        "brazil_set = gpd.read_file('/content/drive/My Drive/Work/BRC/Brazil Pcode/brazil_adm2.geojson')"
      ],
      "execution_count": null,
      "outputs": []
    },
    {
      "cell_type": "markdown",
      "metadata": {
        "id": "PNewBK60cvy3"
      },
      "source": [
        "Pandas reads our .csv file."
      ]
    },
    {
      "cell_type": "code",
      "metadata": {
        "id": "hUH1wPF9v_dU"
      },
      "source": [
        "pcode_adm1 = pd.read_csv('/content/drive/My Drive/Work/BRC/Brazil Pcode/pcode_adm1.csv')"
      ],
      "execution_count": null,
      "outputs": []
    },
    {
      "cell_type": "markdown",
      "metadata": {
        "id": "3SdWv--Nc3Kh"
      },
      "source": [
        "I usually use the .head() command just to check the dataset. We can use this command to look at our two datasets."
      ]
    },
    {
      "cell_type": "code",
      "metadata": {
        "id": "YSXw9VmjeyKW",
        "colab": {
          "base_uri": "https://localhost:8080/",
          "height": 202
        },
        "outputId": "c58cdc39-1472-409d-98bf-cb2f54e01c0f"
      },
      "source": [
        "brazil_set.head()"
      ],
      "execution_count": null,
      "outputs": [
        {
          "output_type": "execute_result",
          "data": {
            "text/html": [
              "<div>\n",
              "<style scoped>\n",
              "    .dataframe tbody tr th:only-of-type {\n",
              "        vertical-align: middle;\n",
              "    }\n",
              "\n",
              "    .dataframe tbody tr th {\n",
              "        vertical-align: top;\n",
              "    }\n",
              "\n",
              "    .dataframe thead th {\n",
              "        text-align: right;\n",
              "    }\n",
              "</style>\n",
              "<table border=\"1\" class=\"dataframe\">\n",
              "  <thead>\n",
              "    <tr style=\"text-align: right;\">\n",
              "      <th></th>\n",
              "      <th>ID_0</th>\n",
              "      <th>ISO</th>\n",
              "      <th>NAME_0</th>\n",
              "      <th>ID_1</th>\n",
              "      <th>NAME_1</th>\n",
              "      <th>ID_2</th>\n",
              "      <th>NAME_2</th>\n",
              "      <th>HASC_2</th>\n",
              "      <th>CCN_2</th>\n",
              "      <th>CCA_2</th>\n",
              "      <th>TYPE_2</th>\n",
              "      <th>ENGTYPE_2</th>\n",
              "      <th>NL_NAME_2</th>\n",
              "      <th>VARNAME_2</th>\n",
              "      <th>geometry</th>\n",
              "    </tr>\n",
              "  </thead>\n",
              "  <tbody>\n",
              "    <tr>\n",
              "      <th>0</th>\n",
              "      <td>33</td>\n",
              "      <td>BRA</td>\n",
              "      <td>Brazil</td>\n",
              "      <td>1</td>\n",
              "      <td>Acre</td>\n",
              "      <td>1</td>\n",
              "      <td>Acrelândia</td>\n",
              "      <td>None</td>\n",
              "      <td>0</td>\n",
              "      <td>None</td>\n",
              "      <td>Município</td>\n",
              "      <td>Municipality</td>\n",
              "      <td>None</td>\n",
              "      <td>None</td>\n",
              "      <td>MULTIPOLYGON (((-67.10586 -9.68811, -67.05984 ...</td>\n",
              "    </tr>\n",
              "    <tr>\n",
              "      <th>1</th>\n",
              "      <td>33</td>\n",
              "      <td>BRA</td>\n",
              "      <td>Brazil</td>\n",
              "      <td>1</td>\n",
              "      <td>Acre</td>\n",
              "      <td>2</td>\n",
              "      <td>Assis Brazil</td>\n",
              "      <td>None</td>\n",
              "      <td>0</td>\n",
              "      <td>None</td>\n",
              "      <td>Município</td>\n",
              "      <td>Municipality</td>\n",
              "      <td>None</td>\n",
              "      <td>None</td>\n",
              "      <td>MULTIPOLYGON (((-69.66749 -10.96098, -69.66760...</td>\n",
              "    </tr>\n",
              "    <tr>\n",
              "      <th>2</th>\n",
              "      <td>33</td>\n",
              "      <td>BRA</td>\n",
              "      <td>Brazil</td>\n",
              "      <td>1</td>\n",
              "      <td>Acre</td>\n",
              "      <td>3</td>\n",
              "      <td>Brasiléia</td>\n",
              "      <td>None</td>\n",
              "      <td>0</td>\n",
              "      <td>None</td>\n",
              "      <td>Município</td>\n",
              "      <td>Municipality</td>\n",
              "      <td>None</td>\n",
              "      <td>None</td>\n",
              "      <td>MULTIPOLYGON (((-68.99985 -11.00668, -69.00039...</td>\n",
              "    </tr>\n",
              "    <tr>\n",
              "      <th>3</th>\n",
              "      <td>33</td>\n",
              "      <td>BRA</td>\n",
              "      <td>Brazil</td>\n",
              "      <td>1</td>\n",
              "      <td>Acre</td>\n",
              "      <td>4</td>\n",
              "      <td>Bujari</td>\n",
              "      <td>None</td>\n",
              "      <td>0</td>\n",
              "      <td>None</td>\n",
              "      <td>Município</td>\n",
              "      <td>Municipality</td>\n",
              "      <td>None</td>\n",
              "      <td>None</td>\n",
              "      <td>MULTIPOLYGON (((-67.94034 -9.33722, -67.94411 ...</td>\n",
              "    </tr>\n",
              "    <tr>\n",
              "      <th>4</th>\n",
              "      <td>33</td>\n",
              "      <td>BRA</td>\n",
              "      <td>Brazil</td>\n",
              "      <td>1</td>\n",
              "      <td>Acre</td>\n",
              "      <td>5</td>\n",
              "      <td>Capixaba</td>\n",
              "      <td>None</td>\n",
              "      <td>0</td>\n",
              "      <td>None</td>\n",
              "      <td>Município</td>\n",
              "      <td>Municipality</td>\n",
              "      <td>None</td>\n",
              "      <td>None</td>\n",
              "      <td>MULTIPOLYGON (((-68.03945 -10.35492, -68.03228...</td>\n",
              "    </tr>\n",
              "  </tbody>\n",
              "</table>\n",
              "</div>"
            ],
            "text/plain": [
              "   ID_0  ISO  ... VARNAME_2                                           geometry\n",
              "0    33  BRA  ...      None  MULTIPOLYGON (((-67.10586 -9.68811, -67.05984 ...\n",
              "1    33  BRA  ...      None  MULTIPOLYGON (((-69.66749 -10.96098, -69.66760...\n",
              "2    33  BRA  ...      None  MULTIPOLYGON (((-68.99985 -11.00668, -69.00039...\n",
              "3    33  BRA  ...      None  MULTIPOLYGON (((-67.94034 -9.33722, -67.94411 ...\n",
              "4    33  BRA  ...      None  MULTIPOLYGON (((-68.03945 -10.35492, -68.03228...\n",
              "\n",
              "[5 rows x 15 columns]"
            ]
          },
          "metadata": {
            "tags": []
          },
          "execution_count": 7
        }
      ]
    },
    {
      "cell_type": "code",
      "metadata": {
        "id": "4_t5jChuRNpx",
        "colab": {
          "base_uri": "https://localhost:8080/",
          "height": 202
        },
        "outputId": "c8741fbd-2346-4699-cda9-2f512a6cd888"
      },
      "source": [
        "pcode_adm1.head()"
      ],
      "execution_count": null,
      "outputs": [
        {
          "output_type": "execute_result",
          "data": {
            "text/html": [
              "<div>\n",
              "<style scoped>\n",
              "    .dataframe tbody tr th:only-of-type {\n",
              "        vertical-align: middle;\n",
              "    }\n",
              "\n",
              "    .dataframe tbody tr th {\n",
              "        vertical-align: top;\n",
              "    }\n",
              "\n",
              "    .dataframe thead th {\n",
              "        text-align: right;\n",
              "    }\n",
              "</style>\n",
              "<table border=\"1\" class=\"dataframe\">\n",
              "  <thead>\n",
              "    <tr style=\"text-align: right;\">\n",
              "      <th></th>\n",
              "      <th>ISO2</th>\n",
              "      <th>Nome_UF</th>\n",
              "      <th>UF</th>\n",
              "      <th>pcode_adm1</th>\n",
              "    </tr>\n",
              "  </thead>\n",
              "  <tbody>\n",
              "    <tr>\n",
              "      <th>0</th>\n",
              "      <td>BR</td>\n",
              "      <td>Rondônia</td>\n",
              "      <td>11</td>\n",
              "      <td>BR11</td>\n",
              "    </tr>\n",
              "    <tr>\n",
              "      <th>1</th>\n",
              "      <td>BR</td>\n",
              "      <td>Acre</td>\n",
              "      <td>12</td>\n",
              "      <td>BR12</td>\n",
              "    </tr>\n",
              "    <tr>\n",
              "      <th>2</th>\n",
              "      <td>BR</td>\n",
              "      <td>Amazonas</td>\n",
              "      <td>13</td>\n",
              "      <td>BR13</td>\n",
              "    </tr>\n",
              "    <tr>\n",
              "      <th>3</th>\n",
              "      <td>BR</td>\n",
              "      <td>Roraima</td>\n",
              "      <td>14</td>\n",
              "      <td>BR14</td>\n",
              "    </tr>\n",
              "    <tr>\n",
              "      <th>4</th>\n",
              "      <td>BR</td>\n",
              "      <td>Pará</td>\n",
              "      <td>15</td>\n",
              "      <td>BR15</td>\n",
              "    </tr>\n",
              "  </tbody>\n",
              "</table>\n",
              "</div>"
            ],
            "text/plain": [
              "  ISO2   Nome_UF  UF pcode_adm1\n",
              "0   BR  Rondônia  11       BR11\n",
              "1   BR      Acre  12       BR12\n",
              "2   BR  Amazonas  13       BR13\n",
              "3   BR   Roraima  14       BR14\n",
              "4   BR      Pará  15       BR15"
            ]
          },
          "metadata": {
            "tags": []
          },
          "execution_count": 8
        }
      ]
    },
    {
      "cell_type": "markdown",
      "metadata": {
        "id": "dd4NUGGac9hS"
      },
      "source": [
        "We can see from the datasets that the two place name columns we want to compare are \"Name_1\" and \"Nome_UF\"."
      ]
    },
    {
      "cell_type": "markdown",
      "metadata": {
        "id": "jWEeTlacdITa"
      },
      "source": [
        "## 4. The fuzzy matching model using FuzzyWuzzy\n",
        "\n",
        "Our goal is to create a \"matches\" column in our .geojson dataset that will align with the pcode dataset. Afterwards, we can join the tables using the \"matches\" column to pull the pcodes into the .geojson file.\n",
        "\n",
        "First we want to prepare our datasets for FuzzyWuzzy. Since we'll eventually want to carry data FROM the pcode dataset TO the Brazil .geojson file we are making the Brazil dataset as df_1 (as the left table of our join) and the pcode dataset as df_2 (as the right table of our join). \n",
        "\n",
        "Next we have to define the \"keys.\" These are the two columns we are performing the match on. We take our first key from our first dataset (the column is called 'Name_1') and we'll take our second key from our second dataset (the column is called 'Nome_UF')."
      ]
    },
    {
      "cell_type": "code",
      "metadata": {
        "id": "o3MmK0KCl-fO"
      },
      "source": [
        "#Preparing fuzzywuzzy modeling here\n",
        "#df_1 is the left table to join\n",
        "#df_2 is the right table to join\n",
        "\n",
        "df_1 = brazil_set\n",
        "df_2 = pcode_adm1\n",
        "\n",
        "#key1 is the key column of the left table\n",
        "#key2 is the key column of the right table\n",
        "\n",
        "key1 = brazil_set['NAME_1']\n",
        "key2 = pcode_adm1['Nome_UF']"
      ],
      "execution_count": null,
      "outputs": []
    },
    {
      "cell_type": "markdown",
      "metadata": {
        "id": "610Xh0ncdw78"
      },
      "source": [
        "Below is the code we'll run. \n",
        "\n",
        "On the first line you'll see us setting the parameters of our model. We set the two datasets we're using (df_1 & df_2), their corresponding keys (key1 & key2). \n",
        "\n",
        "### 4.1 Threshold\n",
        "\n",
        "Next we set the threshold. You can see I put threshold=95. This is telling FuzzyWuzzy how \"flexible\" differences can be. In this context the place names will generally be the close to each other. Because of this, I set it quite high at 90 (the high, the closer the matches need to be).\n",
        "\n",
        "There are many beginner tutorials that review this part of FuzzyWuzzy (such as here: https://chairnerd.seatgeek.com/fuzzywuzzy-fuzzy-string-matching-in-python/) if you want to learn more.\n",
        "\n",
        "### 4.2 Limit\n",
        "\n",
        "You can see I put limit=2. If we write limit=1 it will take the highest scoring match and put in the column. So why did I put 2? If there is more than one match, we'll want to know about it! More than one match flags we need to verify the match and place name.\n",
        "\n",
        "\n"
      ]
    },
    {
      "cell_type": "code",
      "metadata": {
        "id": "-n7NoVbflg4S"
      },
      "source": [
        "def fuzzy_match(df_1, df_2, key1, key2, threshold=95, limit=2):\n",
        "    s = df_2[key2].tolist()\n",
        "    \n",
        "    m = df_1[key1].apply(lambda x: process.extract(x, s, limit=limit))    \n",
        "    df_1['matches'] = m\n",
        "\n",
        "    m2 = df_1['matches'].apply(lambda x: ', '.join([i[0] for i in x if i[1] >= threshold]))\n",
        "    df_1['matches'] = m2\n",
        "    #Only put this in to create a matches column in the right table. Should not be needed.\n",
        "    #df_2['matches'] = m2\n",
        "\n",
        "    return df_1"
      ],
      "execution_count": null,
      "outputs": []
    },
    {
      "cell_type": "markdown",
      "metadata": {
        "id": "6sRfmR_-gqv-"
      },
      "source": [
        "## 5. Running the code\n",
        "\n",
        "Now that we've define out code, we run it. Easy enough!\n",
        "\n",
        "It may take a few seconds. The longer the dataset, the longer it will take."
      ]
    },
    {
      "cell_type": "code",
      "metadata": {
        "id": "DDz97O6WmthW",
        "colab": {
          "base_uri": "https://localhost:8080/",
          "height": 877
        },
        "outputId": "6b32969f-3e10-4b06-94b0-b45fbac481af"
      },
      "source": [
        "fuzzy_match(df_1, df_2, 'NAME_1', 'Nome_UF', threshold=95, limit=2)"
      ],
      "execution_count": null,
      "outputs": [
        {
          "output_type": "execute_result",
          "data": {
            "text/html": [
              "<div>\n",
              "<style scoped>\n",
              "    .dataframe tbody tr th:only-of-type {\n",
              "        vertical-align: middle;\n",
              "    }\n",
              "\n",
              "    .dataframe tbody tr th {\n",
              "        vertical-align: top;\n",
              "    }\n",
              "\n",
              "    .dataframe thead th {\n",
              "        text-align: right;\n",
              "    }\n",
              "</style>\n",
              "<table border=\"1\" class=\"dataframe\">\n",
              "  <thead>\n",
              "    <tr style=\"text-align: right;\">\n",
              "      <th></th>\n",
              "      <th>ID_1</th>\n",
              "      <th>NAME_1</th>\n",
              "      <th>geometry</th>\n",
              "      <th>matches</th>\n",
              "    </tr>\n",
              "  </thead>\n",
              "  <tbody>\n",
              "    <tr>\n",
              "      <th>0</th>\n",
              "      <td>1</td>\n",
              "      <td>Acre</td>\n",
              "      <td>MULTIPOLYGON (((-73.33251 -7.32488, -72.65935 ...</td>\n",
              "      <td>Acre</td>\n",
              "    </tr>\n",
              "    <tr>\n",
              "      <th>1</th>\n",
              "      <td>2</td>\n",
              "      <td>Alagoas</td>\n",
              "      <td>MULTIPOLYGON (((-35.90153 -9.86180, -35.90097 ...</td>\n",
              "      <td>Alagoas</td>\n",
              "    </tr>\n",
              "    <tr>\n",
              "      <th>2</th>\n",
              "      <td>3</td>\n",
              "      <td>Amapá</td>\n",
              "      <td>MULTIPOLYGON (((-50.02403 0.85986, -50.02431 0...</td>\n",
              "      <td>Amapá</td>\n",
              "    </tr>\n",
              "    <tr>\n",
              "      <th>3</th>\n",
              "      <td>4</td>\n",
              "      <td>Amazonas</td>\n",
              "      <td>MULTIPOLYGON (((-67.32623 2.02968, -67.30034 1...</td>\n",
              "      <td>Amazonas</td>\n",
              "    </tr>\n",
              "    <tr>\n",
              "      <th>4</th>\n",
              "      <td>5</td>\n",
              "      <td>Bahia</td>\n",
              "      <td>MULTIPOLYGON (((-38.69708 -17.97903, -38.69597...</td>\n",
              "      <td>Bahia</td>\n",
              "    </tr>\n",
              "    <tr>\n",
              "      <th>5</th>\n",
              "      <td>6</td>\n",
              "      <td>Ceará</td>\n",
              "      <td>MULTIPOLYGON (((-38.47542 -3.70097, -38.47264 ...</td>\n",
              "      <td>Ceará</td>\n",
              "    </tr>\n",
              "    <tr>\n",
              "      <th>6</th>\n",
              "      <td>7</td>\n",
              "      <td>Distrito Federal</td>\n",
              "      <td>MULTIPOLYGON (((-48.03603 -15.50022, -47.41730...</td>\n",
              "      <td>Distrito Federal</td>\n",
              "    </tr>\n",
              "    <tr>\n",
              "      <th>7</th>\n",
              "      <td>8</td>\n",
              "      <td>Espírito Santo</td>\n",
              "      <td>MULTIPOLYGON (((-40.88403 -21.16125, -40.88208...</td>\n",
              "      <td>Espírito Santo</td>\n",
              "    </tr>\n",
              "    <tr>\n",
              "      <th>8</th>\n",
              "      <td>9</td>\n",
              "      <td>Goiás</td>\n",
              "      <td>MULTIPOLYGON (((-50.15817 -12.41238, -50.16134...</td>\n",
              "      <td>Goiás</td>\n",
              "    </tr>\n",
              "    <tr>\n",
              "      <th>9</th>\n",
              "      <td>10</td>\n",
              "      <td>Maranhão</td>\n",
              "      <td>MULTIPOLYGON (((-42.12375 -2.80069, -42.11653 ...</td>\n",
              "      <td>Maranhão</td>\n",
              "    </tr>\n",
              "    <tr>\n",
              "      <th>10</th>\n",
              "      <td>11</td>\n",
              "      <td>Mato Grosso do Sul</td>\n",
              "      <td>MULTIPOLYGON (((-56.10364 -17.17354, -56.06077...</td>\n",
              "      <td>Mato Grosso do Sul</td>\n",
              "    </tr>\n",
              "    <tr>\n",
              "      <th>11</th>\n",
              "      <td>12</td>\n",
              "      <td>Mato Grosso</td>\n",
              "      <td>MULTIPOLYGON (((-57.60524 -8.66285, -57.59355 ...</td>\n",
              "      <td>Mato Grosso</td>\n",
              "    </tr>\n",
              "    <tr>\n",
              "      <th>12</th>\n",
              "      <td>13</td>\n",
              "      <td>Minas Gerais</td>\n",
              "      <td>MULTIPOLYGON (((-44.20978 -14.23665, -44.20124...</td>\n",
              "      <td>Minas Gerais</td>\n",
              "    </tr>\n",
              "    <tr>\n",
              "      <th>13</th>\n",
              "      <td>14</td>\n",
              "      <td>Pará</td>\n",
              "      <td>MULTIPOLYGON (((-46.43458 -1.01708, -46.43403 ...</td>\n",
              "      <td>Pará</td>\n",
              "    </tr>\n",
              "    <tr>\n",
              "      <th>14</th>\n",
              "      <td>15</td>\n",
              "      <td>Paraíba</td>\n",
              "      <td>MULTIPOLYGON (((-42.87874 -9.29837, -42.86221 ...</td>\n",
              "      <td>Paraíba</td>\n",
              "    </tr>\n",
              "    <tr>\n",
              "      <th>15</th>\n",
              "      <td>16</td>\n",
              "      <td>Paraná</td>\n",
              "      <td>MULTIPOLYGON (((-48.63070 -25.86792, -48.62819...</td>\n",
              "      <td>Paraná</td>\n",
              "    </tr>\n",
              "    <tr>\n",
              "      <th>16</th>\n",
              "      <td>17</td>\n",
              "      <td>Pernambuco</td>\n",
              "      <td>MULTIPOLYGON (((-35.13597 -8.83792, -35.13542 ...</td>\n",
              "      <td>Pernambuco</td>\n",
              "    </tr>\n",
              "    <tr>\n",
              "      <th>17</th>\n",
              "      <td>18</td>\n",
              "      <td>Piauí</td>\n",
              "      <td>MULTIPOLYGON (((-41.81681 -2.74375, -41.80986 ...</td>\n",
              "      <td>Piauí</td>\n",
              "    </tr>\n",
              "    <tr>\n",
              "      <th>18</th>\n",
              "      <td>19</td>\n",
              "      <td>Rio de Janeiro</td>\n",
              "      <td>MULTIPOLYGON (((-44.67125 -23.35458, -44.67070...</td>\n",
              "      <td>Rio de Janeiro</td>\n",
              "    </tr>\n",
              "    <tr>\n",
              "      <th>19</th>\n",
              "      <td>20</td>\n",
              "      <td>Rio Grande do Norte</td>\n",
              "      <td>MULTIPOLYGON (((-35.10903 -6.19347, -35.10986 ...</td>\n",
              "      <td>Rio Grande do Norte</td>\n",
              "    </tr>\n",
              "    <tr>\n",
              "      <th>20</th>\n",
              "      <td>21</td>\n",
              "      <td>Rio Grande do Sul</td>\n",
              "      <td>MULTIPOLYGON (((-52.07069 -32.02847, -52.06375...</td>\n",
              "      <td>Rio Grande do Sul</td>\n",
              "    </tr>\n",
              "    <tr>\n",
              "      <th>21</th>\n",
              "      <td>22</td>\n",
              "      <td>Rondônia</td>\n",
              "      <td>MULTIPOLYGON (((-63.53470 -7.97434, -62.86657 ...</td>\n",
              "      <td>Rondônia</td>\n",
              "    </tr>\n",
              "    <tr>\n",
              "      <th>22</th>\n",
              "      <td>23</td>\n",
              "      <td>Roraima</td>\n",
              "      <td>MULTIPOLYGON (((-60.16886 5.22630, -60.12056 5...</td>\n",
              "      <td>Roraima</td>\n",
              "    </tr>\n",
              "    <tr>\n",
              "      <th>23</th>\n",
              "      <td>24</td>\n",
              "      <td>São Paulo</td>\n",
              "      <td>MULTIPOLYGON (((-48.08236 -25.28431, -48.08319...</td>\n",
              "      <td>São Paulo</td>\n",
              "    </tr>\n",
              "    <tr>\n",
              "      <th>24</th>\n",
              "      <td>25</td>\n",
              "      <td>Santa Catarina</td>\n",
              "      <td>MULTIPOLYGON (((-48.75514 -28.51041, -48.75347...</td>\n",
              "      <td>Santa Catarina</td>\n",
              "    </tr>\n",
              "    <tr>\n",
              "      <th>25</th>\n",
              "      <td>26</td>\n",
              "      <td>Sergipe</td>\n",
              "      <td>MULTIPOLYGON (((-37.38458 -11.45986, -37.38125...</td>\n",
              "      <td>Sergipe</td>\n",
              "    </tr>\n",
              "    <tr>\n",
              "      <th>26</th>\n",
              "      <td>27</td>\n",
              "      <td>Tocantins</td>\n",
              "      <td>MULTIPOLYGON (((-48.35310 -5.17391, -48.32085 ...</td>\n",
              "      <td>Tocantins</td>\n",
              "    </tr>\n",
              "  </tbody>\n",
              "</table>\n",
              "</div>"
            ],
            "text/plain": [
              "    ID_1  ...              matches\n",
              "0      1  ...                 Acre\n",
              "1      2  ...              Alagoas\n",
              "2      3  ...                Amapá\n",
              "3      4  ...             Amazonas\n",
              "4      5  ...                Bahia\n",
              "5      6  ...                Ceará\n",
              "6      7  ...     Distrito Federal\n",
              "7      8  ...       Espírito Santo\n",
              "8      9  ...                Goiás\n",
              "9     10  ...             Maranhão\n",
              "10    11  ...   Mato Grosso do Sul\n",
              "11    12  ...          Mato Grosso\n",
              "12    13  ...         Minas Gerais\n",
              "13    14  ...                 Pará\n",
              "14    15  ...              Paraíba\n",
              "15    16  ...               Paraná\n",
              "16    17  ...           Pernambuco\n",
              "17    18  ...                Piauí\n",
              "18    19  ...       Rio de Janeiro\n",
              "19    20  ...  Rio Grande do Norte\n",
              "20    21  ...    Rio Grande do Sul\n",
              "21    22  ...             Rondônia\n",
              "22    23  ...              Roraima\n",
              "23    24  ...            São Paulo\n",
              "24    25  ...       Santa Catarina\n",
              "25    26  ...              Sergipe\n",
              "26    27  ...            Tocantins\n",
              "\n",
              "[27 rows x 4 columns]"
            ]
          },
          "metadata": {
            "tags": []
          },
          "execution_count": 11
        }
      ]
    },
    {
      "cell_type": "markdown",
      "metadata": {
        "id": "J7MokNzCg5PB"
      },
      "source": [
        "### 5.1 The matches\n",
        "\n",
        "You can see there is now a new column in our .geojson dataframe called \"matches.\" These are the matching names from our pcode dataset!\n",
        "\n",
        "### 5.2 Bring over the pcodes\n",
        "\n",
        "Now that we have matching columns we are know align, we can perform a table join the pull over the pcodes to the .geojson dataset."
      ]
    },
    {
      "cell_type": "code",
      "metadata": {
        "id": "wvFovPuSLtRv"
      },
      "source": [
        "brazil_set_merged = pd.merge(brazil_set,\n",
        "                             pcode_adm1[['Nome_UF','pcode_adm1']],\n",
        "                             left_on='matches',\n",
        "                             right_on='Nome_UF', \n",
        "                             how='left')"
      ],
      "execution_count": null,
      "outputs": []
    },
    {
      "cell_type": "markdown",
      "metadata": {
        "id": "T5WnAEhNhVFA"
      },
      "source": [
        "We can make sure it worked."
      ]
    },
    {
      "cell_type": "code",
      "metadata": {
        "id": "GA8S_pEY018w",
        "colab": {
          "base_uri": "https://localhost:8080/",
          "height": 202
        },
        "outputId": "fad57508-828c-4be5-89eb-818cf5a28679"
      },
      "source": [
        "brazil_set_merged.head()"
      ],
      "execution_count": null,
      "outputs": [
        {
          "output_type": "execute_result",
          "data": {
            "text/html": [
              "<div>\n",
              "<style scoped>\n",
              "    .dataframe tbody tr th:only-of-type {\n",
              "        vertical-align: middle;\n",
              "    }\n",
              "\n",
              "    .dataframe tbody tr th {\n",
              "        vertical-align: top;\n",
              "    }\n",
              "\n",
              "    .dataframe thead th {\n",
              "        text-align: right;\n",
              "    }\n",
              "</style>\n",
              "<table border=\"1\" class=\"dataframe\">\n",
              "  <thead>\n",
              "    <tr style=\"text-align: right;\">\n",
              "      <th></th>\n",
              "      <th>ID_1</th>\n",
              "      <th>NAME_1</th>\n",
              "      <th>geometry</th>\n",
              "      <th>matches</th>\n",
              "      <th>Nome_UF</th>\n",
              "      <th>pcode_adm1</th>\n",
              "    </tr>\n",
              "  </thead>\n",
              "  <tbody>\n",
              "    <tr>\n",
              "      <th>0</th>\n",
              "      <td>1</td>\n",
              "      <td>Acre</td>\n",
              "      <td>MULTIPOLYGON (((-73.33251 -7.32488, -72.65935 ...</td>\n",
              "      <td>Acre</td>\n",
              "      <td>Acre</td>\n",
              "      <td>BR12</td>\n",
              "    </tr>\n",
              "    <tr>\n",
              "      <th>1</th>\n",
              "      <td>2</td>\n",
              "      <td>Alagoas</td>\n",
              "      <td>MULTIPOLYGON (((-35.90153 -9.86180, -35.90097 ...</td>\n",
              "      <td>Alagoas</td>\n",
              "      <td>Alagoas</td>\n",
              "      <td>BR27</td>\n",
              "    </tr>\n",
              "    <tr>\n",
              "      <th>2</th>\n",
              "      <td>3</td>\n",
              "      <td>Amapá</td>\n",
              "      <td>MULTIPOLYGON (((-50.02403 0.85986, -50.02431 0...</td>\n",
              "      <td>Amapá</td>\n",
              "      <td>Amapá</td>\n",
              "      <td>BR16</td>\n",
              "    </tr>\n",
              "    <tr>\n",
              "      <th>3</th>\n",
              "      <td>4</td>\n",
              "      <td>Amazonas</td>\n",
              "      <td>MULTIPOLYGON (((-67.32623 2.02968, -67.30034 1...</td>\n",
              "      <td>Amazonas</td>\n",
              "      <td>Amazonas</td>\n",
              "      <td>BR13</td>\n",
              "    </tr>\n",
              "    <tr>\n",
              "      <th>4</th>\n",
              "      <td>5</td>\n",
              "      <td>Bahia</td>\n",
              "      <td>MULTIPOLYGON (((-38.69708 -17.97903, -38.69597...</td>\n",
              "      <td>Bahia</td>\n",
              "      <td>Bahia</td>\n",
              "      <td>BR29</td>\n",
              "    </tr>\n",
              "  </tbody>\n",
              "</table>\n",
              "</div>"
            ],
            "text/plain": [
              "   ID_1    NAME_1  ...   Nome_UF pcode_adm1\n",
              "0     1      Acre  ...      Acre       BR12\n",
              "1     2   Alagoas  ...   Alagoas       BR27\n",
              "2     3     Amapá  ...     Amapá       BR16\n",
              "3     4  Amazonas  ...  Amazonas       BR13\n",
              "4     5     Bahia  ...     Bahia       BR29\n",
              "\n",
              "[5 rows x 6 columns]"
            ]
          },
          "metadata": {
            "tags": []
          },
          "execution_count": 13
        }
      ]
    },
    {
      "cell_type": "markdown",
      "metadata": {
        "id": "zV4nDhe-W0Nh"
      },
      "source": [
        "## 6. Verifying the matches\n",
        "\n",
        "We want to verify the matches. We can do a prelimninary search. This will give us a simple true or false. If it is false, we need to investigate more.\n",
        "\n",
        "## 6.1 Method 1 - running a simple \"equals\" command"
      ]
    },
    {
      "cell_type": "code",
      "metadata": {
        "id": "8kTWvUqYW4CS",
        "colab": {
          "base_uri": "https://localhost:8080/",
          "height": 35
        },
        "outputId": "df6f0304-92c2-49f5-b763-e1b0e2bf4475"
      },
      "source": [
        "brazil_set_merged['NAME_1'].equals(brazil_set_merged['matches'])"
      ],
      "execution_count": null,
      "outputs": [
        {
          "output_type": "execute_result",
          "data": {
            "text/plain": [
              "True"
            ]
          },
          "metadata": {
            "tags": []
          },
          "execution_count": 14
        }
      ]
    },
    {
      "cell_type": "markdown",
      "metadata": {
        "id": "_r98IVg_Yf3M"
      },
      "source": [
        "### 6.2 If you got \"false\" from the equals command\n",
        "\n",
        "You'll need to more thoroughly search to find which rows are not equal."
      ]
    },
    {
      "cell_type": "code",
      "metadata": {
        "id": "MQh8DrCIYomT"
      },
      "source": [
        "brazil_set_merged['match_check'] = (brazil_set_merged.NAME_1 == brazil_set_merged.matches) | True\n",
        "brazil_set_merged['match_check'] = (brazil_set_merged.NAME_1 == brazil_set_merged.matches) | False"
      ],
      "execution_count": null,
      "outputs": []
    },
    {
      "cell_type": "code",
      "metadata": {
        "id": "lgMdfzjcqhdf",
        "colab": {
          "base_uri": "https://localhost:8080/",
          "height": 68
        },
        "outputId": "d970d198-8d8f-4e11-82ae-37eba758501b"
      },
      "source": [
        "# The \"~\" in the equation will return only false matches for us\n",
        "match_check = brazil_set_merged[~brazil_set_merged.match_check]\n",
        "print(match_check)"
      ],
      "execution_count": null,
      "outputs": [
        {
          "output_type": "stream",
          "text": [
            "Empty GeoDataFrame\n",
            "Columns: [ID_1, NAME_1, geometry, matches, Nome_UF, pcode_adm1, match_check]\n",
            "Index: []\n"
          ],
          "name": "stdout"
        }
      ]
    },
    {
      "cell_type": "markdown",
      "metadata": {
        "id": "qJRbF6eB-2xa"
      },
      "source": [
        "And it did! We can see the pcode_adm1 column at the end of the dataframe.\n",
        "\n",
        "# Cleaning up the dataset\n",
        "\n",
        "We are using this spatial dataset for HXL, so we want the filesize to be as small as possible. Because of this, we'll remove all columns we aren't using. We only want to keep the name, geometry, and pcode. \n",
        "\n",
        "Finally, we'll rename the columns to be used in HXL (admin names and pcode names must use these headers)."
      ]
    },
    {
      "cell_type": "code",
      "metadata": {
        "id": "etrvjPlTN2iT"
      },
      "source": [
        "#del brazil_set_merged['Nome_UF']\n",
        "#del brazil_set_merged['matches']"
      ],
      "execution_count": null,
      "outputs": []
    },
    {
      "cell_type": "code",
      "metadata": {
        "id": "soVG0k2r1s-z"
      },
      "source": [
        "#del brazil_set_merged['ID_1']"
      ],
      "execution_count": null,
      "outputs": []
    },
    {
      "cell_type": "code",
      "metadata": {
        "id": "d8_1tGbeqikG"
      },
      "source": [
        "brazil_set_merged = brazil_set_merged.rename(columns={'NAME_1': 'admin1Name', 'pcode_adm1': 'admin1Pcode'})"
      ],
      "execution_count": null,
      "outputs": []
    },
    {
      "cell_type": "code",
      "metadata": {
        "id": "ZJcNstu8OAe5",
        "colab": {
          "base_uri": "https://localhost:8080/",
          "height": 202
        },
        "outputId": "ee17f507-4ac4-40fc-dc6a-224a30b47bcf"
      },
      "source": [
        "brazil_set_merged.head()"
      ],
      "execution_count": null,
      "outputs": [
        {
          "output_type": "execute_result",
          "data": {
            "text/html": [
              "<div>\n",
              "<style scoped>\n",
              "    .dataframe tbody tr th:only-of-type {\n",
              "        vertical-align: middle;\n",
              "    }\n",
              "\n",
              "    .dataframe tbody tr th {\n",
              "        vertical-align: top;\n",
              "    }\n",
              "\n",
              "    .dataframe thead th {\n",
              "        text-align: right;\n",
              "    }\n",
              "</style>\n",
              "<table border=\"1\" class=\"dataframe\">\n",
              "  <thead>\n",
              "    <tr style=\"text-align: right;\">\n",
              "      <th></th>\n",
              "      <th>admin1Name</th>\n",
              "      <th>geometry</th>\n",
              "      <th>admin1Pcode</th>\n",
              "    </tr>\n",
              "  </thead>\n",
              "  <tbody>\n",
              "    <tr>\n",
              "      <th>0</th>\n",
              "      <td>Acre</td>\n",
              "      <td>MULTIPOLYGON (((-73.33251 -7.32488, -72.65935 ...</td>\n",
              "      <td>BR12</td>\n",
              "    </tr>\n",
              "    <tr>\n",
              "      <th>1</th>\n",
              "      <td>Alagoas</td>\n",
              "      <td>MULTIPOLYGON (((-35.90153 -9.86180, -35.90097 ...</td>\n",
              "      <td>BR27</td>\n",
              "    </tr>\n",
              "    <tr>\n",
              "      <th>2</th>\n",
              "      <td>Amapá</td>\n",
              "      <td>MULTIPOLYGON (((-50.02403 0.85986, -50.02431 0...</td>\n",
              "      <td>BR16</td>\n",
              "    </tr>\n",
              "    <tr>\n",
              "      <th>3</th>\n",
              "      <td>Amazonas</td>\n",
              "      <td>MULTIPOLYGON (((-67.32623 2.02968, -67.30034 1...</td>\n",
              "      <td>BR13</td>\n",
              "    </tr>\n",
              "    <tr>\n",
              "      <th>4</th>\n",
              "      <td>Bahia</td>\n",
              "      <td>MULTIPOLYGON (((-38.69708 -17.97903, -38.69597...</td>\n",
              "      <td>BR29</td>\n",
              "    </tr>\n",
              "  </tbody>\n",
              "</table>\n",
              "</div>"
            ],
            "text/plain": [
              "  admin1Name                                           geometry admin1Pcode\n",
              "0       Acre  MULTIPOLYGON (((-73.33251 -7.32488, -72.65935 ...        BR12\n",
              "1    Alagoas  MULTIPOLYGON (((-35.90153 -9.86180, -35.90097 ...        BR27\n",
              "2      Amapá  MULTIPOLYGON (((-50.02403 0.85986, -50.02431 0...        BR16\n",
              "3   Amazonas  MULTIPOLYGON (((-67.32623 2.02968, -67.30034 1...        BR13\n",
              "4      Bahia  MULTIPOLYGON (((-38.69708 -17.97903, -38.69597...        BR29"
            ]
          },
          "metadata": {
            "tags": []
          },
          "execution_count": 20
        }
      ]
    },
    {
      "cell_type": "code",
      "metadata": {
        "id": "mKHllpLlODyN"
      },
      "source": [
        "with open('test.geojson', 'w') as f:\n",
        "    f.write(brazil_set_merged.to_json())"
      ],
      "execution_count": null,
      "outputs": []
    }
  ]
}